{
 "cells": [
  {
   "cell_type": "code",
   "execution_count": 1,
   "id": "a821be49",
   "metadata": {},
   "outputs": [],
   "source": [
    "from sqlalchemy import exists, Column, Integer, String, ForeignKey, DateTime, Text, func\n",
    "from sqlalchemy.ext.declarative import declarative_base\n",
    "from sqlalchemy import create_engine\n",
    "from sqlalchemy.orm import sessionmaker\n",
    "import sqlalchemy"
   ]
  },
  {
   "cell_type": "code",
   "execution_count": 2,
   "id": "830ae311",
   "metadata": {},
   "outputs": [],
   "source": [
    "# pip install mysql-connector-python\n",
    "import mysql.connector\n",
    "\n",
    "class Mysql_Connector(object):\n",
    "\tdef __init__(self,host,port,user,password,database):\n",
    "\t\tself.host=host\n",
    "\t\tself.port=port\n",
    "\t\tself.user=user\n",
    "\t\tself.password=password\n",
    "\t\tself.database=database\n",
    "\tdef get_connect(self):\n",
    "\t\treturn mysql.connector.connect(host=self.host,user=self.user,password=self.password,database=self.database)"
   ]
  },
  {
   "cell_type": "code",
   "execution_count": 5,
   "id": "00570ec1",
   "metadata": {},
   "outputs": [],
   "source": [
    "# https://github.com/mkleehammer/pyodbc/wiki/Cursor\n",
    "key = '' # your passward to access sql server\n",
    "\n",
    "# update insert\n",
    "def operate(sql):\n",
    "    mysql_connect=Mysql_Connector('localhost',3306,'root',key,'travel_reservation_service')\n",
    "    conn=mysql_connect.get_connect()\n",
    "    cursor=conn.cursor()\n",
    "    try:\n",
    "        cursor.execute(sql)\n",
    "        cursor.close()\n",
    "        conn.commit()\n",
    "    except Exception as e:\n",
    "        print(e)\n",
    "        cursor.close()\n",
    "        # Rollback in case there is any error\n",
    "        conn.rollback()\n",
    "    conn.close()\n",
    "\n",
    "# select\n",
    "def select(sql):\n",
    "    mysql_connect=Mysql_Connector('localhost',3306,'root',key,'travel_reservation_service')\n",
    "    conn=mysql_connect.get_connect()\n",
    "    cursor=conn.cursor()\n",
    "    results = None\n",
    "    try:\n",
    "        cursor.execute(sql)\n",
    "        results = cursor.fetchall()\n",
    "        cursor.close()\n",
    "    except Exception as e:\n",
    "        print(e)\n",
    "        cursor.close()\n",
    "    conn.close()\n",
    "    return results\n",
    "\n",
    "# call proc\n",
    "def callproc(sql, args=[]):\n",
    "    mysql_connect=Mysql_Connector('localhost',3306,'root',key,'travel_reservation_service')\n",
    "    conn=mysql_connect.get_connect()\n",
    "    cursor=conn.cursor()\n",
    "    results = None\n",
    "    try:\n",
    "        cursor.callproc(sql, args)\n",
    "        for re in cursor.stored_results():\n",
    "            results=re.fetchall()\n",
    "#             print(results)\n",
    "#         results = cursor.fetchall()\n",
    "        cursor.close()\n",
    "        conn.commit()\n",
    "    except Exception as e:\n",
    "        print(e)\n",
    "        cursor.close()\n",
    "        # Rollback in case there is any error\n",
    "        conn.rollback()\n",
    "    conn.close()\n",
    "    return results\n",
    "\n",
    "# Not sure why we need these two functions here\n",
    "@classmethod\n",
    "def int_c(cls, int_):\n",
    "    return int_ if int_ else 'null'\n",
    "\n",
    "@classmethod\n",
    "def str_c(cls, str_):\n",
    "    return \"'{}'\".format(str_) if str_ else 'null'"
   ]
  },
  {
   "cell_type": "code",
   "execution_count": 8,
   "id": "1e2d24f0",
   "metadata": {},
   "outputs": [
    {
     "name": "stdout",
     "output_type": "stream",
     "text": [
      "[('aray@tiktok.com', 'Addison', 'Ray', 'password17'), ('aray1@tiktok.com', 'Addison', 'Ray', 'password17'), ('aray2@tiktok.com', 'Addison', 'Ray', 'password17'), ('aray3@tiktok.com', 'Addison', 'Ray', 'password17'), ('arthurread@gmail.com', 'Arthur', 'Read', 'password4'), ('asmith@travelagency.com', 'Aviva', 'Smith', 'password2'), ('boblee15@gmail.com', 'Bob', 'Lee', 'password25'), ('bshelton@gmail.com', 'Blake', 'Shelton', 'password19'), ('cbing10@gmail.com', 'Chandler', 'Bing', 'password13'), ('cdemilio@tiktok.com', 'Charlie', 'Demilio', 'password18'), ('ellie2@gmail.com', 'Ellie', 'Johnson', 'password10'), ('falcon@gmail.com', 'Samuel', 'Wilson', 'password22'), ('falcon2@gmail.com', 'Samuel', 'Wilson', 'password22'), ('falcon3@gmail.com', 'Samuel', 'Wilson', 'password22'), ('gburdell3@gmail.com', 'George', 'Burdell', 'password6'), ('hwmit@gmail.com', 'Howard', 'Wolowitz', 'password14'), ('johnthomas@gmail.com', 'John', 'Thomas', 'password24'), ('jseinfeld@gmail.com', 'Jerry', 'Seinfeld', 'password22'), ('jwayne@gmail.com', 'John', 'Wayne', 'password5'), ('lbryan@gmail.com', 'Luke', 'Bryan', 'password20'), ('lebron6@gmail.com', 'Lebron', 'James', 'password8'), ('maddiesmith@gmail.com', 'Madison', 'Smith', 'password23'), ('mgeller5@gmail.com', 'Monica', 'Geller', 'password12'), ('mj23@gmail.com', 'Michael', 'Jordan', 'password7'), ('mmoss1@travelagency.com', 'Mark', 'Moss', 'password1'), ('mscott22@gmail.com', 'Michael', 'Scott', 'password3'), ('msmith5@gmail.com', 'Michael', 'Smith', 'password9'), ('scooper3@gmail.com', 'Sheldon', 'Cooper', 'password11'), ('swilson@gmail.com', 'Samantha', 'Wilson', 'password16'), ('tswift@gmail.com', 'Taylor', 'Swift', 'password21'), ('xinyue.ma@gatech.edu', 'Xinyue', 'Ma', 'gatech'), ('xinyue.ma1@gatech.edu', 'Xinyue', 'Ma', 'gatech')]\n",
      "[('American Airlines', Decimal('4.6')), ('Delta Airlines', Decimal('4.7')), ('Interjet', Decimal('3.7')), ('JetBlue Airways', Decimal('3.6')), ('Southwest Airlines', Decimal('4.4')), ('Spirit Airlines', Decimal('3.3')), ('United Airlines', Decimal('4.2')), ('WestJet', Decimal('3.9'))]\n"
     ]
    }
   ],
   "source": [
    "# if __name__ == '__main__':\n",
    "# login_msg = ['192.168.0.1', 3306, 'student_db', 'paisen', 'abcd1234']\n",
    "# msq = MySqlOp(login_msg)\n",
    "\n",
    "# select\n",
    "result = select('''select * from Accounts;''')\n",
    "print(result)\n",
    "\n",
    "# insert and update\n",
    "operate('''insert into Accounts values ('aray5@tiktok.com', 'Addison', 'Ray', 'password17');''')\n",
    "\n",
    "# call proc\n",
    "cover = callproc('test1', [])\n",
    "print(cover)"
   ]
  }
 ],
 "metadata": {
  "kernelspec": {
   "display_name": "Python 3 (ipykernel)",
   "language": "python",
   "name": "python3"
  },
  "language_info": {
   "codemirror_mode": {
    "name": "ipython",
    "version": 3
   },
   "file_extension": ".py",
   "mimetype": "text/x-python",
   "name": "python",
   "nbconvert_exporter": "python",
   "pygments_lexer": "ipython3",
   "version": "3.8.5"
  }
 },
 "nbformat": 4,
 "nbformat_minor": 5
}
